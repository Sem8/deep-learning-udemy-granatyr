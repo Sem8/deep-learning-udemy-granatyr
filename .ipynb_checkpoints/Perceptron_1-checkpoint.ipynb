{
 "cells": [
  {
   "cell_type": "markdown",
   "metadata": {
    "colab_type": "text",
    "id": "view-in-github"
   },
   "source": [
    "<a href=\"https://colab.research.google.com/github/Sem8/deep-learning-udemy-granatyr/blob/main/Perceptron_1.ipynb\" target=\"_parent\"><img src=\"https://colab.research.google.com/assets/colab-badge.svg\" alt=\"Open In Colab\"/></a>"
   ]
  },
  {
   "cell_type": "markdown",
   "metadata": {
    "id": "zGrQyZxaxzW-"
   },
   "source": [
    "# Perceptron 1"
   ]
  },
  {
   "cell_type": "markdown",
   "metadata": {
    "id": "5hNUHxiAx2XE"
   },
   "source": [
    "![alt text](https://drive.google.com/uc?id=1o5DhBusTaqWFEfAxC7v20-jemnKBninM)"
   ]
  },
  {
   "cell_type": "markdown",
   "metadata": {
    "id": "0Zy1NxIgOCnX"
   },
   "source": [
    "## Inputs and weights"
   ]
  },
  {
   "cell_type": "code",
   "execution_count": 9,
   "metadata": {
    "id": "z-5dEcggSO_S"
   },
   "outputs": [],
   "source": [
    "inputs = [35, 25]"
   ]
  },
  {
   "cell_type": "code",
   "execution_count": 10,
   "metadata": {
    "colab": {
     "base_uri": "https://localhost:8080/",
     "height": 34
    },
    "id": "iTpWAQDJSf-e",
    "outputId": "d5c98858-598e-43e7-820e-5fb8d0e1935d"
   },
   "outputs": [
    {
     "data": {
      "text/plain": [
       "list"
      ]
     },
     "execution_count": 10,
     "metadata": {},
     "output_type": "execute_result"
    }
   ],
   "source": [
    "type(inputs)"
   ]
  },
  {
   "cell_type": "code",
   "execution_count": 11,
   "metadata": {
    "colab": {
     "base_uri": "https://localhost:8080/",
     "height": 34
    },
    "id": "FaQu-mJgSo6I",
    "outputId": "4af4a6e7-da17-4058-fff8-c55586971838"
   },
   "outputs": [
    {
     "data": {
      "text/plain": [
       "35"
      ]
     },
     "execution_count": 11,
     "metadata": {},
     "output_type": "execute_result"
    }
   ],
   "source": [
    "inputs[0]"
   ]
  },
  {
   "cell_type": "code",
   "execution_count": 12,
   "metadata": {
    "colab": {
     "base_uri": "https://localhost:8080/",
     "height": 34
    },
    "id": "ZYmiXB3ESrXO",
    "outputId": "f3a547f4-d136-4924-ed70-54e151f06a64"
   },
   "outputs": [
    {
     "data": {
      "text/plain": [
       "25"
      ]
     },
     "execution_count": 12,
     "metadata": {},
     "output_type": "execute_result"
    }
   ],
   "source": [
    "inputs[1]"
   ]
  },
  {
   "cell_type": "code",
   "execution_count": null,
   "metadata": {
    "id": "sUegRBmjSxU_"
   },
   "outputs": [],
   "source": [
    "weights = [-0.8, 0.1]"
   ]
  },
  {
   "cell_type": "markdown",
   "metadata": {
    "id": "b-FFtbMFOHPO"
   },
   "source": [
    "## Sum function"
   ]
  },
  {
   "cell_type": "code",
   "execution_count": null,
   "metadata": {
    "id": "1ZFnRkgWS6tF"
   },
   "outputs": [],
   "source": [
    "def sum(inputs, weights):\n",
    "  s = 0\n",
    "  for i in range(2):\n",
    "    #print(i)\n",
    "    #print(inputs[i])\n",
    "    #print(weights[i])\n",
    "    s += inputs[i] * weights[i]\n",
    "  return s"
   ]
  },
  {
   "cell_type": "code",
   "execution_count": null,
   "metadata": {
    "id": "-nCHELAjTQw1"
   },
   "outputs": [],
   "source": [
    "s = sum(inputs, weights)"
   ]
  },
  {
   "cell_type": "code",
   "execution_count": null,
   "metadata": {
    "colab": {
     "base_uri": "https://localhost:8080/",
     "height": 34
    },
    "id": "Yp7Eo5o5UC9n",
    "outputId": "6dcbc477-7dd3-40ec-9342-7fa505f3b6b6"
   },
   "outputs": [
    {
     "data": {
      "text/plain": [
       "-25.5"
      ]
     },
     "execution_count": 22,
     "metadata": {
      "tags": []
     },
     "output_type": "execute_result"
    }
   ],
   "source": [
    "s"
   ]
  },
  {
   "cell_type": "markdown",
   "metadata": {
    "id": "HnggNLkiOJj2"
   },
   "source": [
    "## Step function"
   ]
  },
  {
   "cell_type": "code",
   "execution_count": null,
   "metadata": {
    "id": "tyGCL1jYUS52"
   },
   "outputs": [],
   "source": [
    "def step_function(sum):\n",
    "  if (sum >= 1):\n",
    "    return 1\n",
    "  return 0"
   ]
  },
  {
   "cell_type": "markdown",
   "metadata": {
    "id": "pybCG4h8ONSR"
   },
   "source": [
    "## Final result"
   ]
  },
  {
   "cell_type": "code",
   "execution_count": null,
   "metadata": {
    "colab": {
     "base_uri": "https://localhost:8080/",
     "height": 34
    },
    "id": "nISd_PZSUzvI",
    "outputId": "56302a9b-2d9f-4f6a-b5d5-273072b71cd2"
   },
   "outputs": [
    {
     "data": {
      "text/plain": [
       "0"
      ]
     },
     "execution_count": 23,
     "metadata": {
      "tags": []
     },
     "output_type": "execute_result"
    }
   ],
   "source": [
    "step_function(s)"
   ]
  }
 ],
 "metadata": {
  "colab": {
   "include_colab_link": true,
   "provenance": []
  },
  "kernelspec": {
   "display_name": "Python 3 (ipykernel)",
   "language": "python",
   "name": "python3"
  },
  "language_info": {
   "codemirror_mode": {
    "name": "ipython",
    "version": 3
   },
   "file_extension": ".py",
   "mimetype": "text/x-python",
   "name": "python",
   "nbconvert_exporter": "python",
   "pygments_lexer": "ipython3",
   "version": "3.10.0"
  }
 },
 "nbformat": 4,
 "nbformat_minor": 1
}
