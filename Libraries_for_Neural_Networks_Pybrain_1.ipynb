{
  "nbformat": 4,
  "nbformat_minor": 0,
  "metadata": {
    "colab": {
      "provenance": [],
      "include_colab_link": true
    },
    "kernelspec": {
      "name": "python3",
      "display_name": "Python 3"
    }
  },
  "cells": [
    {
      "cell_type": "markdown",
      "metadata": {
        "id": "view-in-github",
        "colab_type": "text"
      },
      "source": [
        "<a href=\"https://colab.research.google.com/github/Sem8/deep-learning-udemy-granatyr/blob/main/Libraries_for_Neural_Networks_Pybrain_1.ipynb\" target=\"_parent\"><img src=\"https://colab.research.google.com/assets/colab-badge.svg\" alt=\"Open In Colab\"/></a>"
      ]
    },
    {
      "cell_type": "markdown",
      "metadata": {
        "id": "ZjL4mldO_t43"
      },
      "source": [
        "# Libraries for Neural Networks - Pybrain 1"
      ]
    },
    {
      "cell_type": "code",
      "metadata": {
        "id": "XFg0-w7mawGW",
        "outputId": "9451bfa8-7740-4480-b70b-d5fff3b31db3",
        "colab": {
          "base_uri": "https://localhost:8080/",
          "height": 238
        }
      },
      "source": [
        "!pip install https://github.com/pybrain/pybrain/archive/0.3.3.zip"
      ],
      "execution_count": null,
      "outputs": [
        {
          "output_type": "stream",
          "text": [
            "Collecting https://github.com/pybrain/pybrain/archive/0.3.3.zip\n",
            "\u001b[?25l  Downloading https://github.com/pybrain/pybrain/archive/0.3.3.zip\n",
            "\u001b[K     / 6.4MB 288kB/s\n",
            "\u001b[?25hRequirement already satisfied: scipy in /usr/local/lib/python3.6/dist-packages (from PyBrain==0.3.1) (1.4.1)\n",
            "Requirement already satisfied: numpy>=1.13.3 in /usr/local/lib/python3.6/dist-packages (from scipy->PyBrain==0.3.1) (1.18.5)\n",
            "Building wheels for collected packages: PyBrain\n",
            "  Building wheel for PyBrain (setup.py) ... \u001b[?25l\u001b[?25hdone\n",
            "  Created wheel for PyBrain: filename=PyBrain-0.3.1-cp36-none-any.whl size=468232 sha256=f92ae83a0635797db878c97c1307d13eb2d1cdeea82a8be7b6c943527d594d06\n",
            "  Stored in directory: /tmp/pip-ephem-wheel-cache-0qcr8me2/wheels/0b/04/38/2f174aa3c578350870947ca6ab12e0eb89aef3478c9610eb0a\n",
            "Successfully built PyBrain\n",
            "Installing collected packages: PyBrain\n",
            "Successfully installed PyBrain-0.3.1\n"
          ],
          "name": "stdout"
        }
      ]
    },
    {
      "cell_type": "code",
      "metadata": {
        "id": "0uHk540CbAh1"
      },
      "source": [
        "import pybrain"
      ],
      "execution_count": null,
      "outputs": []
    },
    {
      "cell_type": "code",
      "metadata": {
        "id": "NbZWFjNUbXv4"
      },
      "source": [
        "from pybrain.structure import FeedForwardNetwork\n",
        "from pybrain.structure import SigmoidLayer, LinearLayer, BiasUnit\n",
        "from pybrain.structure import FullConnection"
      ],
      "execution_count": null,
      "outputs": []
    },
    {
      "cell_type": "code",
      "metadata": {
        "id": "VUZRypPkcW_V"
      },
      "source": [
        "network = FeedForwardNetwork()"
      ],
      "execution_count": null,
      "outputs": []
    },
    {
      "cell_type": "code",
      "metadata": {
        "id": "HznqHcrscmsL"
      },
      "source": [
        "input_layer = LinearLayer(2)\n",
        "hidden_layer = SigmoidLayer(3)\n",
        "output_layer = SigmoidLayer(1)\n",
        "bias0 = BiasUnit()\n",
        "bias1 = BiasUnit()"
      ],
      "execution_count": null,
      "outputs": []
    },
    {
      "cell_type": "code",
      "metadata": {
        "id": "4YjmIeSRdW3M"
      },
      "source": [
        "network.addModule(input_layer)\n",
        "network.addModule(hidden_layer)\n",
        "network.addModule(output_layer)\n",
        "network.addModule(bias0)\n",
        "network.addModule(bias1)"
      ],
      "execution_count": null,
      "outputs": []
    },
    {
      "cell_type": "code",
      "metadata": {
        "id": "TNShu4KudzVU"
      },
      "source": [
        "input_to_hidden = FullConnection(input_layer, hidden_layer)\n",
        "hidden_to_output = FullConnection(hidden_layer, output_layer)\n",
        "bias_hidden = FullConnection(bias0, hidden_layer)\n",
        "bias_output = FullConnection(bias1, output_layer)"
      ],
      "execution_count": null,
      "outputs": []
    },
    {
      "cell_type": "code",
      "metadata": {
        "id": "bm6Iw-bxeLlP"
      },
      "source": [
        "network.sortModules()"
      ],
      "execution_count": null,
      "outputs": []
    },
    {
      "cell_type": "code",
      "metadata": {
        "id": "YhayaWeuebJ1",
        "outputId": "6aab985b-6b88-40b7-82d3-57668370c3a1",
        "colab": {
          "base_uri": "https://localhost:8080/",
          "height": 138
        }
      },
      "source": [
        "print(network)"
      ],
      "execution_count": null,
      "outputs": [
        {
          "output_type": "stream",
          "text": [
            "FeedForwardNetwork-10\n",
            "   Modules:\n",
            "    [<BiasUnit 'BiasUnit-6'>, <BiasUnit 'BiasUnit-7'>, <LinearLayer 'LinearLayer-9'>, <SigmoidLayer 'SigmoidLayer-5'>, <SigmoidLayer 'SigmoidLayer-8'>]\n",
            "   Connections:\n",
            "    []\n",
            "\n"
          ],
          "name": "stdout"
        }
      ]
    },
    {
      "cell_type": "code",
      "metadata": {
        "id": "E56yqvNbemLz",
        "outputId": "2569072f-b159-4caf-f5a6-da75efd875b3",
        "colab": {
          "base_uri": "https://localhost:8080/",
          "height": 34
        }
      },
      "source": [
        "print(input_to_hidden.params)"
      ],
      "execution_count": null,
      "outputs": [
        {
          "output_type": "stream",
          "text": [
            "[ 1.33207118  1.88303013  0.1368466  -0.85197954 -2.40841766 -0.19717989]\n"
          ],
          "name": "stdout"
        }
      ]
    },
    {
      "cell_type": "code",
      "metadata": {
        "id": "OAOwCLPnex6v",
        "outputId": "cf87b59a-dcba-4428-c74c-a88d2d27b2b0",
        "colab": {
          "base_uri": "https://localhost:8080/",
          "height": 34
        }
      },
      "source": [
        "print(hidden_to_output.params)"
      ],
      "execution_count": null,
      "outputs": [
        {
          "output_type": "stream",
          "text": [
            "[ 0.66270824 -0.50743935 -3.40495917]\n"
          ],
          "name": "stdout"
        }
      ]
    },
    {
      "cell_type": "code",
      "metadata": {
        "id": "WQjsPaQ8e7E5",
        "outputId": "bdedecfc-671d-4a09-e10f-8637fa9556fa",
        "colab": {
          "base_uri": "https://localhost:8080/",
          "height": 34
        }
      },
      "source": [
        "print(bias_hidden.params)"
      ],
      "execution_count": null,
      "outputs": [
        {
          "output_type": "stream",
          "text": [
            "[-1.16533243  0.59422771 -0.7946233 ]\n"
          ],
          "name": "stdout"
        }
      ]
    },
    {
      "cell_type": "code",
      "metadata": {
        "id": "Dsk-MJB5fDwG",
        "outputId": "4dd0de90-862f-4520-abab-b28233cde7f2",
        "colab": {
          "base_uri": "https://localhost:8080/",
          "height": 34
        }
      },
      "source": [
        "print(bias_output.params)"
      ],
      "execution_count": null,
      "outputs": [
        {
          "output_type": "stream",
          "text": [
            "[1.99627754]\n"
          ],
          "name": "stdout"
        }
      ]
    }
  ]
}