{
 "cells": [
  {
   "cell_type": "code",
   "execution_count": 1,
   "id": "4b06d5a3",
   "metadata": {},
   "outputs": [],
   "source": [
    "inputs = [35, 25]"
   ]
  },
  {
   "cell_type": "code",
   "execution_count": 2,
   "id": "aa9d067a",
   "metadata": {},
   "outputs": [
    {
     "data": {
      "text/plain": [
       "list"
      ]
     },
     "execution_count": 2,
     "metadata": {},
     "output_type": "execute_result"
    }
   ],
   "source": [
    "type(inputs)"
   ]
  },
  {
   "cell_type": "code",
   "execution_count": 3,
   "id": "81ec9132",
   "metadata": {},
   "outputs": [
    {
     "data": {
      "text/plain": [
       "35"
      ]
     },
     "execution_count": 3,
     "metadata": {},
     "output_type": "execute_result"
    }
   ],
   "source": [
    "inputs[0]"
   ]
  },
  {
   "cell_type": "code",
   "execution_count": 17,
   "id": "6e4022aa",
   "metadata": {},
   "outputs": [],
   "source": [
    "weights = [-0.8, 0.1]"
   ]
  },
  {
   "cell_type": "code",
   "execution_count": 18,
   "id": "91a1dbcd",
   "metadata": {},
   "outputs": [],
   "source": [
    "# sum function\n",
    "def sum(inputs, weights):\n",
    "    s = 0\n",
    "    for i in range(2):\n",
    "        s += inputs[i] * weights[i]\n",
    "    return s"
   ]
  },
  {
   "cell_type": "code",
   "execution_count": 19,
   "id": "8d4e4c34",
   "metadata": {},
   "outputs": [
    {
     "data": {
      "text/plain": [
       "-25.5"
      ]
     },
     "execution_count": 19,
     "metadata": {},
     "output_type": "execute_result"
    }
   ],
   "source": [
    "s = sum(inputs, weights)\n",
    "s"
   ]
  },
  {
   "cell_type": "code",
   "execution_count": 20,
   "id": "7766d1e4",
   "metadata": {},
   "outputs": [],
   "source": [
    "def step_function(sum):\n",
    "    if(sum >= 1):\n",
    "        return 1\n",
    "    else:\n",
    "        return 0"
   ]
  },
  {
   "cell_type": "code",
   "execution_count": 21,
   "id": "cb3e00aa",
   "metadata": {},
   "outputs": [
    {
     "data": {
      "text/plain": [
       "0"
      ]
     },
     "execution_count": 21,
     "metadata": {},
     "output_type": "execute_result"
    }
   ],
   "source": [
    "step_function(s)"
   ]
  },
  {
   "cell_type": "code",
   "execution_count": null,
   "id": "ef94b20f",
   "metadata": {},
   "outputs": [],
   "source": []
  }
 ],
 "metadata": {
  "kernelspec": {
   "display_name": "Python 3 (ipykernel)",
   "language": "python",
   "name": "python3"
  },
  "language_info": {
   "codemirror_mode": {
    "name": "ipython",
    "version": 3
   },
   "file_extension": ".py",
   "mimetype": "text/x-python",
   "name": "python",
   "nbconvert_exporter": "python",
   "pygments_lexer": "ipython3",
   "version": "3.10.0"
  }
 },
 "nbformat": 4,
 "nbformat_minor": 5
}
